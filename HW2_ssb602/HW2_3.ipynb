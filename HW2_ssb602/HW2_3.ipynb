{
 "cells": [
  {
   "cell_type": "markdown",
   "metadata": {},
   "source": [
    "# Homework 3"
   ]
  },
  {
   "cell_type": "markdown",
   "metadata": {},
   "source": [
    "### Importing necessary libraries"
   ]
  },
  {
   "cell_type": "code",
   "execution_count": 2,
   "metadata": {
    "collapsed": false
   },
   "outputs": [
    {
     "name": "stdout",
     "output_type": "stream",
     "text": [
      "Populating the interactive namespace from numpy and matplotlib\n"
     ]
    }
   ],
   "source": [
    "from __future__ import print_function\n",
    "\n",
    "import os\n",
    "import sys\n",
    "\n",
    "import matplotlib.pyplot as plt\n",
    "%matplotlib inline\n",
    "\n",
    "import pylab as pl\n",
    "%pylab inline\n"
   ]
  },
  {
   "cell_type": "markdown",
   "metadata": {},
   "source": [
    "### Loading the csv file from datahub using environment variable DFDATA"
   ]
  },
  {
   "cell_type": "code",
   "execution_count": 3,
   "metadata": {
    "collapsed": true
   },
   "outputs": [],
   "source": [
    "DFDATA = os.getenv('DFDATA')"
   ]
  },
  {
   "cell_type": "code",
   "execution_count": 4,
   "metadata": {
    "collapsed": false
   },
   "outputs": [
    {
     "data": {
      "text/plain": [
       "'/gws/open/NYCOpenData/nycopendata/data'"
      ]
     },
     "execution_count": 4,
     "metadata": {},
     "output_type": "execute_result"
    }
   ],
   "source": [
    "DFDATA"
   ]
  },
  {
   "cell_type": "code",
   "execution_count": 5,
   "metadata": {
    "collapsed": true
   },
   "outputs": [],
   "source": [
    "import pandas as pd"
   ]
  },
  {
   "cell_type": "code",
   "execution_count": 128,
   "metadata": {
    "collapsed": false
   },
   "outputs": [],
   "source": [
    "dsny_df = pd.read_csv(DFDATA + '/u6gg-xejf/1414246005/u6gg-xejf')"
   ]
  },
  {
   "cell_type": "markdown",
   "metadata": {},
   "source": [
    "### Displaying first few rows if the dataset"
   ]
  },
  {
   "cell_type": "code",
   "execution_count": 129,
   "metadata": {
    "collapsed": false
   },
   "outputs": [
    {
     "data": {
      "text/html": [
       "<div>\n",
       "<table border=\"1\" class=\"dataframe\">\n",
       "  <thead>\n",
       "    <tr style=\"text-align: right;\">\n",
       "      <th></th>\n",
       "      <th>Boro</th>\n",
       "      <th>District</th>\n",
       "      <th>CCU</th>\n",
       "      <th>Block</th>\n",
       "      <th>Lot</th>\n",
       "      <th>OwnerType</th>\n",
       "      <th>Status_Date</th>\n",
       "      <th>Address</th>\n",
       "    </tr>\n",
       "  </thead>\n",
       "  <tbody>\n",
       "    <tr>\n",
       "      <th>0</th>\n",
       "      <td>BRONX</td>\n",
       "      <td>1</td>\n",
       "      <td>12-05333</td>\n",
       "      <td>2294</td>\n",
       "      <td>43</td>\n",
       "      <td>City</td>\n",
       "      <td>01/30/2012</td>\n",
       "      <td>AT 460 WESTCHESTER AVENUE betw NYCTA SUBWAY &amp; ...</td>\n",
       "    </tr>\n",
       "    <tr>\n",
       "      <th>1</th>\n",
       "      <td>BRONX</td>\n",
       "      <td>1</td>\n",
       "      <td>12-05333</td>\n",
       "      <td>2294</td>\n",
       "      <td>55</td>\n",
       "      <td>City</td>\n",
       "      <td>01/30/2012</td>\n",
       "      <td>AT 460 WESTCHESTER AVENUE betw NYCTA SUBWAY &amp; ...</td>\n",
       "    </tr>\n",
       "    <tr>\n",
       "      <th>2</th>\n",
       "      <td>BRONX</td>\n",
       "      <td>1</td>\n",
       "      <td>12-05333</td>\n",
       "      <td>2294</td>\n",
       "      <td>59</td>\n",
       "      <td>City</td>\n",
       "      <td>01/30/2012</td>\n",
       "      <td>AT 460 WESTCHESTER AVENUE betw NYCTA SUBWAY &amp; ...</td>\n",
       "    </tr>\n",
       "    <tr>\n",
       "      <th>3</th>\n",
       "      <td>BRONX</td>\n",
       "      <td>1</td>\n",
       "      <td>11-11869</td>\n",
       "      <td>2585</td>\n",
       "      <td>19</td>\n",
       "      <td>Private</td>\n",
       "      <td>01/19/2012</td>\n",
       "      <td>ADJ. 840 EAST 134 STREET betw WALNUT AVENUE &amp; ...</td>\n",
       "    </tr>\n",
       "    <tr>\n",
       "      <th>4</th>\n",
       "      <td>BRONX</td>\n",
       "      <td>1</td>\n",
       "      <td>12-05386</td>\n",
       "      <td>2617</td>\n",
       "      <td>20</td>\n",
       "      <td>City</td>\n",
       "      <td>01/31/2012</td>\n",
       "      <td>AT 672 ST ANNS AVENUE betw EAST 156 STREET &amp; R...</td>\n",
       "    </tr>\n",
       "  </tbody>\n",
       "</table>\n",
       "</div>"
      ],
      "text/plain": [
       "    Boro  District       CCU  Block  Lot OwnerType Status_Date  \\\n",
       "0  BRONX         1  12-05333   2294   43      City  01/30/2012   \n",
       "1  BRONX         1  12-05333   2294   55      City  01/30/2012   \n",
       "2  BRONX         1  12-05333   2294   59      City  01/30/2012   \n",
       "3  BRONX         1  11-11869   2585   19   Private  01/19/2012   \n",
       "4  BRONX         1  12-05386   2617   20      City  01/31/2012   \n",
       "\n",
       "                                             Address  \n",
       "0  AT 460 WESTCHESTER AVENUE betw NYCTA SUBWAY & ...  \n",
       "1  AT 460 WESTCHESTER AVENUE betw NYCTA SUBWAY & ...  \n",
       "2  AT 460 WESTCHESTER AVENUE betw NYCTA SUBWAY & ...  \n",
       "3  ADJ. 840 EAST 134 STREET betw WALNUT AVENUE & ...  \n",
       "4  AT 672 ST ANNS AVENUE betw EAST 156 STREET & R...  "
      ]
     },
     "execution_count": 129,
     "metadata": {},
     "output_type": "execute_result"
    }
   ],
   "source": [
    "dsny_df.head(5)"
   ]
  },
  {
   "cell_type": "markdown",
   "metadata": {},
   "source": [
    "### Dropping all columns except the two numerical columns which in this dataset are District and Lot"
   ]
  },
  {
   "cell_type": "code",
   "execution_count": 130,
   "metadata": {
    "collapsed": false
   },
   "outputs": [
    {
     "data": {
      "text/html": [
       "<div>\n",
       "<table border=\"1\" class=\"dataframe\">\n",
       "  <thead>\n",
       "    <tr style=\"text-align: right;\">\n",
       "      <th></th>\n",
       "      <th>District</th>\n",
       "      <th>Lot</th>\n",
       "    </tr>\n",
       "  </thead>\n",
       "  <tbody>\n",
       "    <tr>\n",
       "      <th>0</th>\n",
       "      <td>1</td>\n",
       "      <td>43</td>\n",
       "    </tr>\n",
       "    <tr>\n",
       "      <th>1</th>\n",
       "      <td>1</td>\n",
       "      <td>55</td>\n",
       "    </tr>\n",
       "    <tr>\n",
       "      <th>2</th>\n",
       "      <td>1</td>\n",
       "      <td>59</td>\n",
       "    </tr>\n",
       "    <tr>\n",
       "      <th>3</th>\n",
       "      <td>1</td>\n",
       "      <td>19</td>\n",
       "    </tr>\n",
       "    <tr>\n",
       "      <th>4</th>\n",
       "      <td>1</td>\n",
       "      <td>20</td>\n",
       "    </tr>\n",
       "  </tbody>\n",
       "</table>\n",
       "</div>"
      ],
      "text/plain": [
       "   District  Lot\n",
       "0         1   43\n",
       "1         1   55\n",
       "2         1   59\n",
       "3         1   19\n",
       "4         1   20"
      ]
     },
     "execution_count": 130,
     "metadata": {},
     "output_type": "execute_result"
    }
   ],
   "source": [
    "dsny_df.drop(['Boro','CCU','Block','OwnerType','Status_Date','Address'],axis=1,inplace=True)\n",
    "dsny_df.head(5)"
   ]
  },
  {
   "cell_type": "code",
   "execution_count": 131,
   "metadata": {
    "collapsed": false
   },
   "outputs": [],
   "source": [
    "#dropping the outlier\n",
    "dsny_df=dsny_df.drop(dsny_df.index[10])"
   ]
  },
  {
   "cell_type": "markdown",
   "metadata": {},
   "source": [
    "### Scatter plot of numerical columns"
   ]
  },
  {
   "cell_type": "code",
   "execution_count": 133,
   "metadata": {
    "collapsed": false
   },
   "outputs": [
    {
     "data": {
      "text/plain": [
       "<matplotlib.text.Text at 0x7f496fe40550>"
      ]
     },
     "execution_count": 133,
     "metadata": {},
     "output_type": "execute_result"
    },
    {
     "data": {
      "image/png": "[encoded data removed]",
      "text/plain": [
       "<matplotlib.figure.Figure at 0x7f497402eed0>"
      ]
     },
     "metadata": {},
     "output_type": "display_data"
    }
   ],
   "source": [
    "plt.scatter(dsny_df.District,dsny_df.Lot)\n",
    "plt.xlabel(\"District\")\n",
    "plt.ylabel(\"Lot\")\n",
    "plt.title(\"District-wise Number of Lots\")"
   ]
  },
  {
   "cell_type": "markdown",
   "metadata": {},
   "source": [
    "   <h3>Figure 1</h3> <h4> [Number of Lots Cleaned per District] </h4>"
   ]
  },
  {
   "cell_type": "markdown",
   "metadata": {},
   "source": [
    "# Extra Credit"
   ]
  },
  {
   "cell_type": "markdown",
   "metadata": {},
   "source": [
    "### Reading Data from csv on datahub using the envrionment variable DFDATA"
   ]
  },
  {
   "cell_type": "code",
   "execution_count": 134,
   "metadata": {
    "collapsed": true
   },
   "outputs": [],
   "source": [
    "dsny_df1 = pd.read_csv(DFDATA + '/u6gg-xejf/1414246005/u6gg-xejf')"
   ]
  },
  {
   "cell_type": "markdown",
   "metadata": {},
   "source": [
    "### Deleting all but one numeric and date column"
   ]
  },
  {
   "cell_type": "code",
   "execution_count": 135,
   "metadata": {
    "collapsed": false
   },
   "outputs": [
    {
     "data": {
      "text/html": [
       "<div>\n",
       "<table border=\"1\" class=\"dataframe\">\n",
       "  <thead>\n",
       "    <tr style=\"text-align: right;\">\n",
       "      <th></th>\n",
       "      <th>District</th>\n",
       "      <th>Status_Date</th>\n",
       "    </tr>\n",
       "  </thead>\n",
       "  <tbody>\n",
       "    <tr>\n",
       "      <th>0</th>\n",
       "      <td>1</td>\n",
       "      <td>01/30/2012</td>\n",
       "    </tr>\n",
       "    <tr>\n",
       "      <th>1</th>\n",
       "      <td>1</td>\n",
       "      <td>01/30/2012</td>\n",
       "    </tr>\n",
       "    <tr>\n",
       "      <th>2</th>\n",
       "      <td>1</td>\n",
       "      <td>01/30/2012</td>\n",
       "    </tr>\n",
       "    <tr>\n",
       "      <th>3</th>\n",
       "      <td>1</td>\n",
       "      <td>01/19/2012</td>\n",
       "    </tr>\n",
       "    <tr>\n",
       "      <th>4</th>\n",
       "      <td>1</td>\n",
       "      <td>01/31/2012</td>\n",
       "    </tr>\n",
       "  </tbody>\n",
       "</table>\n",
       "</div>"
      ],
      "text/plain": [
       "   District Status_Date\n",
       "0         1  01/30/2012\n",
       "1         1  01/30/2012\n",
       "2         1  01/30/2012\n",
       "3         1  01/19/2012\n",
       "4         1  01/31/2012"
      ]
     },
     "execution_count": 135,
     "metadata": {},
     "output_type": "execute_result"
    }
   ],
   "source": [
    "dsny_df1.drop(['Boro','CCU','Block','OwnerType','Lot','Address'],axis=1,inplace=True)\n",
    "dsny_df1.head(5)"
   ]
  },
  {
   "cell_type": "code",
   "execution_count": 136,
   "metadata": {
    "collapsed": true
   },
   "outputs": [],
   "source": [
    "dsny_df1 = dsny_df1.sort_values('Status_Date',ascending=True)"
   ]
  },
  {
   "cell_type": "markdown",
   "metadata": {},
   "source": [
    "### Scatter plot of date and numerical columns with x-ticks rotated"
   ]
  },
  {
   "cell_type": "code",
   "execution_count": 140,
   "metadata": {
    "collapsed": false
   },
   "outputs": [
    {
     "data": {
      "text/plain": [
       "<matplotlib.text.Text at 0x7f496fb72390>"
      ]
     },
     "execution_count": 140,
     "metadata": {},
     "output_type": "execute_result"
    },
    {
     "data": {
      "image/png": "[encoded data removed]",
      "text/plain": [
       "<matplotlib.figure.Figure at 0x7f496fc105d0>"
      ]
     },
     "metadata": {},
     "output_type": "display_data"
    }
   ],
   "source": [
    "plt.plot_date(pd.to_datetime(dsny_df1.Status_Date),dsny_df1.District,xdate=True,fmt='o')\n",
    "plt.xticks(rotation=90)\n",
    "plt.xlabel('Date of Cleaning')\n",
    "plt.ylabel('District')\n",
    "plt.title('District-wise Cleaning for the Month of January')"
   ]
  },
  {
   "cell_type": "markdown",
   "metadata": {},
   "source": [
    "   <h3>Figure 2</h3> <h4> [Cleaning Status for the month of January] </h4>"
   ]
  }
 ],
 "metadata": {
  "kernelspec": {
   "display_name": "PUI2016_Python2",
   "language": "python",
   "name": "pui2016_python2"
  },
  "language_info": {
   "codemirror_mode": {
    "name": "ipython",
    "version": 2
   },
   "file_extension": ".py",
   "mimetype": "text/x-python",
   "name": "python",
   "nbconvert_exporter": "python",
   "pygments_lexer": "ipython2",
   "version": "2.7.12"
  }
 },
 "nbformat": 4,
 "nbformat_minor": 0
}
